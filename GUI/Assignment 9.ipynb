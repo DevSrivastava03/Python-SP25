{
 "cells": [
  {
   "cell_type": "code",
   "execution_count": 7,
   "id": "017a7222-43ca-48b2-81d9-e5589e30d85b",
   "metadata": {},
   "outputs": [],
   "source": [
    "import tkinter as tk\n",
    "\n",
    "root = tk.Tk()\n",
    "root.title(\"Infinite Progress\")\n",
    "root.geometry(\"400x150\")\n",
    "\n",
    "messages = [\"Please wait...\", \"Still waiting...\", \"Almost there...\", \"Nope.\"]\n",
    "msg_index = 0\n",
    "\n",
    "label = tk.Label(root, text=messages[msg_index], font=(\"Helvetica\", 14))\n",
    "label.pack(pady=10)\n",
    "\n",
    "progress = ttk.Progressbar(root, orient=\"horizontal\", length=300, mode=\"determinate\")\n",
    "progress.pack(pady=10)\n",
    "\n",
    "percent_label = tk.Label(root, text=\"0%\", font=(\"Helvetica\", 12))\n",
    "percent_label.pack()\n",
    "\n",
    "progress_value = 0\n",
    "\n",
    "def update_progress():\n",
    "    global progress_value, msg_index\n",
    "\n",
    "    progress_value += 1\n",
    "    progress[\"value\"] = progress_value\n",
    "    percent_label.config(text=f\"{progress_value}%\")\n",
    "\n",
    "    # Change status message every 25%\n",
    "    if progress_value % 25 == 0:\n",
    "        msg_index = (msg_index + 1) % len(messages)\n",
    "        label.config(text=messages[msg_index])\n",
    "\n",
    "    # Reset at 99% to infinite loop\n",
    "    if progress_value >= 99:\n",
    "        progress_value = 0\n",
    "\n",
    "    root.after(300, update_progress)\n",
    "\n",
    "update_progress()\n",
    "\n",
    "root.mainloop()\n"
   ]
  },
  {
   "cell_type": "code",
   "execution_count": null,
   "id": "a1924a4f-fd5a-4690-90ac-96043acd8cad",
   "metadata": {},
   "outputs": [],
   "source": []
  }
 ],
 "metadata": {
  "kernelspec": {
   "display_name": "Python 3 (ipykernel)",
   "language": "python",
   "name": "python3"
  },
  "language_info": {
   "codemirror_mode": {
    "name": "ipython",
    "version": 3
   },
   "file_extension": ".py",
   "mimetype": "text/x-python",
   "name": "python",
   "nbconvert_exporter": "python",
   "pygments_lexer": "ipython3",
   "version": "3.12.4"
  }
 },
 "nbformat": 4,
 "nbformat_minor": 5
}
